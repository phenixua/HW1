{
 "cells": [
  {
   "cell_type": "code",
   "execution_count": 56,
   "metadata": {},
   "outputs": [
    {
     "name": "stdout",
     "output_type": "stream",
     "text": [
      "[ 1  2  3  4  5  6  7  8  9 10]\n"
     ]
    }
   ],
   "source": [
    "#1\n",
    "\n",
    "import numpy as np\n",
    "\n",
    "a = np.array([1, 2, 3, 4, 5, 6, 7, 8, 9, 10], dtype=int)\n",
    "print(a)  \n",
    "\n"
   ]
  },
  {
   "cell_type": "code",
   "execution_count": 15,
   "metadata": {},
   "outputs": [
    {
     "name": "stdout",
     "output_type": "stream",
     "text": [
      "[[0 0 0]\n",
      " [0 0 0]\n",
      " [0 0 0]]\n"
     ]
    }
   ],
   "source": [
    "#2\n",
    "\n",
    "m = np.zeros((3, 3), dtype=int)\n",
    "print(m)"
   ]
  },
  {
   "cell_type": "code",
   "execution_count": 34,
   "metadata": {},
   "outputs": [
    {
     "name": "stdout",
     "output_type": "stream",
     "text": [
      "[[ 2  9  9  6  2]\n",
      " [ 6  6  5  9  9]\n",
      " [ 6 10  6  8  8]\n",
      " [ 7 10  2  8  7]\n",
      " [10  9  8  9  4]]\n"
     ]
    }
   ],
   "source": [
    "#3\n",
    "\n",
    "m = np.random.randint(1, 11, size=(5, 5))\n",
    "print(m)\n"
   ]
  },
  {
   "cell_type": "code",
   "execution_count": 35,
   "metadata": {},
   "outputs": [
    {
     "name": "stdout",
     "output_type": "stream",
     "text": [
      "[[0.87752024 0.46394846 0.87884569 0.72105548]\n",
      " [0.60633904 0.96493837 0.54480969 0.46321349]\n",
      " [0.78796692 0.9918662  0.24852464 0.97173049]\n",
      " [0.90302306 0.74444478 0.57377177 0.64682428]]\n"
     ]
    }
   ],
   "source": [
    "#4\n",
    "\n",
    "m = np.random.rand(4, 4)\n",
    "print(m)"
   ]
  },
  {
   "cell_type": "code",
   "execution_count": 36,
   "metadata": {},
   "outputs": [
    {
     "name": "stdout",
     "output_type": "stream",
     "text": [
      "Масив 1: [1 1 1 6 4]\n",
      "Масив 2: [2 6 3 2 1]\n",
      "Додавання: [3 7 4 8 5]\n",
      "Віднімання: [-1 -5 -2  4  3]\n",
      "Множення: [ 2  6  3 12  4]\n"
     ]
    }
   ],
   "source": [
    "#5\n",
    "\n",
    "a = np.random.randint(1, 11, size=5)\n",
    "print(\"Масив 1:\", a)\n",
    "\n",
    "b = np.random.randint(1, 11, size=5)\n",
    "print(\"Масив 2:\", b)\n",
    "\n",
    "add_result = np.add(a, b)\n",
    "print(\"Додавання:\", add_result)\n",
    "\n",
    "subtract_result = np.subtract(a, b)\n",
    "print(\"Віднімання:\", subtract_result)\n",
    "\n",
    "multiply_result = np.multiply(a, b)\n",
    "print(\"Множення:\", multiply_result)"
   ]
  },
  {
   "cell_type": "code",
   "execution_count": 67,
   "metadata": {},
   "outputs": [
    {
     "name": "stdout",
     "output_type": "stream",
     "text": [
      "[3 9 4 5 9 1 1]\n",
      "[ 2  3  2  3  5 10  4]\n",
      "115\n"
     ]
    }
   ],
   "source": [
    "#6\n",
    "\n",
    "a = np.random.randint(1, 11, size=7)\n",
    "print(a)\n",
    "\n",
    "b = np.random.randint(1, 11, size=7)\n",
    "print(b)\n",
    "\n",
    "scalar_mul = np.dot(a, b)\n",
    "print(scalar_mul)\n"
   ]
  },
  {
   "cell_type": "code",
   "execution_count": 38,
   "metadata": {},
   "outputs": [
    {
     "name": "stdout",
     "output_type": "stream",
     "text": [
      "[[ 2  1]\n",
      " [ 2 10]]\n",
      "[[ 9 10  4]\n",
      " [ 3  1  7]]\n",
      "[[21 21 15]\n",
      " [48 30 78]]\n"
     ]
    }
   ],
   "source": [
    "#7\n",
    "\n",
    "m1 = np.random.randint(1, 11, size=(2, 2))\n",
    "print(m1)\n",
    "\n",
    "m2 = np.random.randint(1, 11, size=(2, 3))\n",
    "print(m2)\n",
    "\n",
    "matrix_multiply = np.dot(m1, m2)\n",
    "print(matrix_multiply)"
   ]
  },
  {
   "cell_type": "code",
   "execution_count": 39,
   "metadata": {},
   "outputs": [
    {
     "name": "stdout",
     "output_type": "stream",
     "text": [
      "[[ 8  5  4]\n",
      " [ 5  8  5]\n",
      " [ 1 10  8]]\n",
      "[[ 0.13333333  0.         -0.06666667]\n",
      " [-0.33333333  0.57142857 -0.19047619]\n",
      " [ 0.4        -0.71428571  0.37142857]]\n"
     ]
    }
   ],
   "source": [
    "#8\n",
    "\n",
    "m = np.random.randint(1, 11, size=(3, 3))\n",
    "print(m)\n",
    "\n",
    "m_inv = np.linalg.inv(m)\n",
    "print(m_inv)"
   ]
  },
  {
   "cell_type": "code",
   "execution_count": 60,
   "metadata": {},
   "outputs": [
    {
     "name": "stdout",
     "output_type": "stream",
     "text": [
      "[[0.22075427 0.14888046 0.05012348 0.74233643]\n",
      " [0.94674301 0.69471663 0.55814719 0.46291316]\n",
      " [0.47363197 0.0436076  0.92420062 0.72288506]\n",
      " [0.59584435 0.81467731 0.38648052 0.58658446]]\n",
      "[[0.22075427 0.94674301 0.47363197 0.59584435]\n",
      " [0.14888046 0.69471663 0.0436076  0.81467731]\n",
      " [0.05012348 0.55814719 0.92420062 0.38648052]\n",
      " [0.74233643 0.46291316 0.72288506 0.58658446]]\n"
     ]
    }
   ],
   "source": [
    "#9\n",
    "\n",
    "m = np.random.rand(4, 4)\n",
    "print(m)\n",
    "\n",
    "m_T = np.transpose(m)\n",
    "print(m_T)"
   ]
  },
  {
   "cell_type": "code",
   "execution_count": 72,
   "metadata": {},
   "outputs": [
    {
     "name": "stdout",
     "output_type": "stream",
     "text": [
      "[[ 9  3  9  3]\n",
      " [ 3  2 10  9]\n",
      " [ 3  6  1  8]]\n",
      "[8 6 1 4]\n",
      "[111  82  93]\n"
     ]
    }
   ],
   "source": [
    "#10\n",
    "\n",
    "m = np.random.randint(1, 11, size=(3, 4))\n",
    "print(m)\n",
    "\n",
    "a = np.random.randint(1, 11, size=4)\n",
    "print(a)\n",
    "\n",
    "multiply_m_a= np.dot(m, a)\n",
    "print(multiply_m_a)"
   ]
  },
  {
   "cell_type": "code",
   "execution_count": 76,
   "metadata": {},
   "outputs": [
    {
     "name": "stdout",
     "output_type": "stream",
     "text": [
      "[[0.08130823 0.15011819 0.85861555]\n",
      " [0.74319597 0.06811173 0.87580051]]\n",
      "[0.10899037 0.03646906 0.4924313 ]\n",
      "[0.43714565 0.51475676]\n"
     ]
    }
   ],
   "source": [
    "#11\n",
    "\n",
    "m = np.random.rand(2, 3)\n",
    "print(m)\n",
    "\n",
    "a = np.random.rand(3)\n",
    "print(a)\n",
    "\n",
    "multiply_m_a= np.dot(m, a)\n",
    "print(multiply_m_a)"
   ]
  },
  {
   "cell_type": "code",
   "execution_count": 85,
   "metadata": {},
   "outputs": [
    {
     "name": "stdout",
     "output_type": "stream",
     "text": [
      "[[0.67838293 0.62817791]\n",
      " [0.37267862 0.05336141]]\n",
      "[[0.73428634 0.42129557]\n",
      " [0.33987871 0.91309018]]\n",
      "[[0.49812732 0.26464857]\n",
      " [0.12666553 0.04872378]]\n"
     ]
    }
   ],
   "source": [
    "#12\n",
    "\n",
    "m1 = np.random.rand(2, 2)\n",
    "print(m1)\n",
    "\n",
    "m2 = np.random.rand(2, 2)\n",
    "print(m2)\n",
    "\n",
    "# m3 = np.multiply(m1, m2)\n",
    "# print(m3)\n",
    "print(m1*m2)"
   ]
  },
  {
   "cell_type": "code",
   "execution_count": 88,
   "metadata": {},
   "outputs": [
    {
     "name": "stdout",
     "output_type": "stream",
     "text": [
      "[[0.62231179 0.53947675]\n",
      " [0.42534944 0.92688648]]\n",
      "[[0.94289484 0.02003427]\n",
      " [0.12275308 0.04671865]]\n",
      "[[0.65299701 0.03767119]\n",
      " [0.51483797 0.05182445]]\n"
     ]
    }
   ],
   "source": [
    "#13\n",
    "\n",
    "m1 = np.random.rand(2, 2)\n",
    "print(m1)\n",
    "\n",
    "m2 = np.random.rand(2, 2)\n",
    "print(m2)\n",
    "\n",
    "m3 = np.dot(m1, m2)\n",
    "print(m3)"
   ]
  },
  {
   "cell_type": "code",
   "execution_count": 89,
   "metadata": {},
   "outputs": [
    {
     "name": "stdout",
     "output_type": "stream",
     "text": [
      "[[92 47 34 66 54]\n",
      " [60 37 57 78 73]\n",
      " [86 71 55  7 95]\n",
      " [58 60 16 31 19]\n",
      " [18 93 80 17 67]]\n",
      "1371\n"
     ]
    }
   ],
   "source": [
    "#14\n",
    "\n",
    "m = np.random.randint(1, 101, size=(5, 5))\n",
    "print(m)\n",
    "\n",
    "m_sum = np.sum(m)\n",
    "print(m_sum)"
   ]
  },
  {
   "cell_type": "code",
   "execution_count": 90,
   "metadata": {},
   "outputs": [
    {
     "name": "stdout",
     "output_type": "stream",
     "text": [
      "[[9 8 4 9]\n",
      " [2 3 9 8]\n",
      " [7 1 4 6]\n",
      " [8 2 2 6]]\n",
      "[[ 1 10 10 10]\n",
      " [ 8  3  9  2]\n",
      " [ 5  5  5  4]\n",
      " [ 8 10  7  5]]\n",
      "[[ 8 -2 -6 -1]\n",
      " [-6  0  0  6]\n",
      " [ 2 -4 -1  2]\n",
      " [ 0 -8 -5  1]]\n"
     ]
    }
   ],
   "source": [
    "#15\n",
    "\n",
    "m1 = np.random.randint(1, 11, size=(4, 4))\n",
    "print(m1)\n",
    "\n",
    "m2 = np.random.randint(1, 11, size=(4, 4))\n",
    "print(m2)\n",
    "\n",
    "m_difference = np.subtract(m1, m2)\n",
    "print(m_difference)"
   ]
  },
  {
   "cell_type": "code",
   "execution_count": 92,
   "metadata": {},
   "outputs": [
    {
     "name": "stdout",
     "output_type": "stream",
     "text": [
      "[[0.29386428 0.15620738 0.52202536]\n",
      " [0.62825436 0.65387121 0.18160934]\n",
      " [0.71493423 0.73559379 0.71605283]]\n",
      "[[0.97209702]\n",
      " [1.46373491]\n",
      " [2.16658084]]\n"
     ]
    }
   ],
   "source": [
    "#16\n",
    "\n",
    "m = np.random.rand(3, 3)\n",
    "print(m)\n",
    "\n",
    "a_sums = np.sum(m, axis=1, keepdims=True)\n",
    "print(a_sums)"
   ]
  },
  {
   "cell_type": "code",
   "execution_count": 93,
   "metadata": {},
   "outputs": [
    {
     "name": "stdout",
     "output_type": "stream",
     "text": [
      "[[6 9 7 9]\n",
      " [5 7 1 3]\n",
      " [5 2 2 6]]\n",
      "[[36 81 49 81]\n",
      " [25 49  1  9]\n",
      " [25  4  4 36]]\n"
     ]
    }
   ],
   "source": [
    "#17\n",
    "\n",
    "m = np.random.randint(1, 11, size=(3, 4))\n",
    "print(m)\n",
    "\n",
    "m_square = np.square(m)\n",
    "print(m_square)"
   ]
  },
  {
   "cell_type": "code",
   "execution_count": 95,
   "metadata": {},
   "outputs": [
    {
     "name": "stdout",
     "output_type": "stream",
     "text": [
      "[23 38 47 15]\n",
      "[4.79583152 6.164414   6.8556546  3.87298335]\n"
     ]
    }
   ],
   "source": [
    "#18\n",
    "\n",
    "a = np.random.randint(1, 51, size=4)\n",
    "print(a)\n",
    "\n",
    "a_sqrt = np.sqrt(a)\n",
    "print(a_sqrt)"
   ]
  }
 ],
 "metadata": {
  "kernelspec": {
   "display_name": "Python 3",
   "language": "python",
   "name": "python3"
  },
  "language_info": {
   "codemirror_mode": {
    "name": "ipython",
    "version": 3
   },
   "file_extension": ".py",
   "mimetype": "text/x-python",
   "name": "python",
   "nbconvert_exporter": "python",
   "pygments_lexer": "ipython3",
   "version": "3.11.0"
  }
 },
 "nbformat": 4,
 "nbformat_minor": 2
}
