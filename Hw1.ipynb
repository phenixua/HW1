{
 "cells": [
  {
   "cell_type": "code",
   "execution_count": 15,
   "metadata": {},
   "outputs": [
    {
     "name": "stdout",
     "output_type": "stream",
     "text": [
      "[ 1  2  3  4  5  6  7  8  9 10]\n"
     ]
    }
   ],
   "source": [
    "#1\n",
    "\n",
    "import numpy as np\n",
    "\n",
    "a = np.array([1, 2, 3, 4, 5, 6, 7, 8, 9, 10], dtype=int)\n",
    "print(a)  \n",
    "\n"
   ]
  },
  {
   "cell_type": "code",
   "execution_count": 24,
   "metadata": {},
   "outputs": [
    {
     "name": "stdout",
     "output_type": "stream",
     "text": [
      "[[0 0 0]\n",
      " [0 0 0]\n",
      " [0 0 0]]\n"
     ]
    }
   ],
   "source": [
    "#2\n",
    "\n",
    "m = np.zeros((3, 3), dtype=int)\n",
    "print(m)"
   ]
  },
  {
   "cell_type": "code",
   "execution_count": 36,
   "metadata": {},
   "outputs": [
    {
     "name": "stdout",
     "output_type": "stream",
     "text": [
      "[[ 2  9  6  7  8]\n",
      " [10 10  2  5  8]\n",
      " [ 7  9  6  3  1]\n",
      " [ 9  5  3  6  6]\n",
      " [10  4  3  8  3]]\n"
     ]
    }
   ],
   "source": [
    "#3\n",
    "\n",
    "m_5x5 = np.random.randint(1, 11, size=(5, 5))\n",
    "\n",
    "print(m_5x5)\n"
   ]
  },
  {
   "cell_type": "code",
   "execution_count": 45,
   "metadata": {},
   "outputs": [
    {
     "name": "stdout",
     "output_type": "stream",
     "text": [
      "[[0.28629541 0.55125674 0.06750252 0.36603366]\n",
      " [0.69505438 0.06734196 0.21498403 0.94794292]\n",
      " [0.40918075 0.35423688 0.82947493 0.30655049]\n",
      " [0.81487356 0.94665758 0.20998251 0.27431611]]\n"
     ]
    }
   ],
   "source": [
    "#4\n",
    "\n",
    "m_4x4 = np.random.rand(4, 4)\n",
    "\n",
    "print(m_4x4)"
   ]
  }
 ],
 "metadata": {
  "kernelspec": {
   "display_name": "Python 3",
   "language": "python",
   "name": "python3"
  },
  "language_info": {
   "codemirror_mode": {
    "name": "ipython",
    "version": 3
   },
   "file_extension": ".py",
   "mimetype": "text/x-python",
   "name": "python",
   "nbconvert_exporter": "python",
   "pygments_lexer": "ipython3",
   "version": "3.11.0"
  }
 },
 "nbformat": 4,
 "nbformat_minor": 2
}
